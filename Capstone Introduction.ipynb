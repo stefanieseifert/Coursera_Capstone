{
    "cells": [
        {
            "cell_type": "markdown",
            "metadata": {
                "collapsed": true
            },
            "source": "# Introduction"
        },
        {
            "cell_type": "markdown",
            "metadata": {},
            "source": "My capston projects looks at the Neighborhood of different cities in different countries and compares them by building clusters.\nThe research question is rather a sociological one than a business problem. The idea is to check, whether the neighborhoods of one city wil end up in one cluster or whether there are similar neighborhood structures that exists in different countries. This can be a signal of whether ne national culture is dominant or local cultures develop on their on.\nThe analysis could be run multiple times to see whether characteristics of the country have an impact on which culture (nationall or local) is the more important one. \n\n"
        },
        {
            "cell_type": "markdown",
            "metadata": {},
            "source": "# Data"
        },
        {
            "cell_type": "markdown",
            "metadata": {},
            "source": "The data used in this capstone are the foresquare location data for developers. The data are accessable via API. They contain location based data on the venues in a requested area. I will restrict my analysis to use \n- the name of a venue (not used in clustering, but for the purpose of documentation)\n- the location (longitude and latitude)  \n- the category (e.g. Italien) combined with price category (e.g. Italien $$).\n\nAnalyzed vanues are restricted to those in a radius of 5 km."
        },
        {
            "cell_type": "code",
            "execution_count": null,
            "metadata": {},
            "outputs": [],
            "source": ""
        }
    ],
    "metadata": {
        "kernelspec": {
            "display_name": "Python 3.6",
            "language": "python",
            "name": "python3"
        },
        "language_info": {
            "codemirror_mode": {
                "name": "ipython",
                "version": 3
            },
            "file_extension": ".py",
            "mimetype": "text/x-python",
            "name": "python",
            "nbconvert_exporter": "python",
            "pygments_lexer": "ipython3",
            "version": "3.6.8"
        }
    },
    "nbformat": 4,
    "nbformat_minor": 1
}