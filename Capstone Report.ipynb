{
    "cells": [
        {
            "cell_type": "markdown",
            "metadata": {
                "collapsed": true
            },
            "source": "# Introduction"
        },
        {
            "cell_type": "markdown",
            "metadata": {},
            "source": "My capston projects looks at the Neighborhood of different cities in different countries and compares them by building clusters. The research question is rather a sociological one than a business problem. The idea is to check, whether the neighborhoods of one city wil end up in one cluster or whether there are similar neighborhood structures that exists in different countries. This can be a signal of whether the national culture is dominant or local cultures develop on their own. \nThe two cities analyzed are New York and Toronto. For forther research the analysis could be run multiple times to see whether characteristics of the country have an impact on which culture (nationall or local) is the more important one."
        },
        {
            "cell_type": "markdown",
            "metadata": {},
            "source": "# Data"
        },
        {
            "cell_type": "markdown",
            "metadata": {},
            "source": "The data used in this capstone are the foresquare location data for developers. The data are accessable via API. They contain location based data on the venues in a requested area. I will restrict my analysis to use\n\n- the name of a venue (not used in clustering, but for the purpose of documentation)\n- the location (longitude and latitude)\n- the category (e.g. Italien) \n\nAnalyzed vanues are restricted to those in a radius of 500.\n\nI analyse the neighborhoods of Toronto and New York. Both places are rather similar, as they belong to the western world and are in Noth America. Still they belong to different countries and may have different local traditions which are reflected in the local venue structure."
        },
        {
            "cell_type": "markdown",
            "metadata": {},
            "source": "# Methodology "
        },
        {
            "cell_type": "markdown",
            "metadata": {},
            "source": "First all relevant Neighborhoods of Toronto and New York are identified. For those Neighborhoods all available venues are listet including categoy.\n\nAs Input for Clustering the data are normalized by calculating the share of the venue categories by Neighborhood.\nThe Clustering of Neighborhoods is done usind the kmeans algorithm. This method builds clusters that are most similar within and diverse between clusters. The analysis is carried out with only 8 clusters and a random starting point for each cluster center. As clustering is a technique of unsupervised learning the results are interpreted and discussed but no statistical testing is applied.\n\n\n   If the national culture dominate the local one, then I would expect to see clusters either only in Manhatten Neighborhoods or in Toronto neighborhoods. If the local culture is the stronger one, then we may find neighborhoods of the same cluster in both New York and Toronto\n"
        },
        {
            "cell_type": "markdown",
            "metadata": {},
            "source": "# Results\n"
        },
        {
            "cell_type": "markdown",
            "metadata": {},
            "source": "The preprocessed dataset results in *11,957 different venues from 337 different neighborhoods* that will be analyzes. \n\nThe resulting clusters cover the Boroughs as follows\n- Cluster 0 covers 119 neighborhoods from New York and 34 neighborhoods from Toronto\n- Cluster 1 covers 25 neighborhoods from New York \n- Cluster 2 covers 1 neighborhood from New York\n- Cluster 3 covers 7 neighborhoods from New York\n- Cluster 4 covers 145 neighborhoods from New York and 2 neighborhoods from Toronto\n- Cluster 5 covers 4 neighborhoods from New York and 2 neighborhoods from Toronto\n- Cluster 6 covers 2 neighborhoods from New York\n- Cluster 7 covers 1 neighborhood from  Toronto\n\n\n\nWe can see that there are two clusters which cover most of the neighborhoods. Cluster 0 appears in both Toronto and New York. This might be a \"Noth American urban culture\" Cluster. The second big cluster (number 4) includes also a wide range of Neighborhoods but nearly only appears in New York. This might represent an urban US Cluster.\nIt can further be seen, that New York is by far more divers than Toronto.\nIn New York it is interessting to note, that the two dominant clusters (red and blue) are split locally. You can see that on the map (see presentation or skript)\n\n"
        },
        {
            "cell_type": "markdown",
            "metadata": {},
            "source": "# Discussion\n"
        },
        {
            "cell_type": "markdown",
            "metadata": {},
            "source": "In the results section I called custer 4 an urban US Cluster. In order to test this assumption it would be a good idea to further analyse other american citis, e.g. LA or San Fransisco. If the cluster is a typical urban american Cluster we would find it in these cities as well. Otherewise it might be a special New York culture.\n\nApart from cluster 0 and 4, the others are quote smaller. They seem to be somehow special.\nLets look at the very special clusters. \n\n- Cluster 5 is small but appears both in Toronto an New York. It contains neighboorhoods whichs most dominant venues are parks\n\n- Cluster 3 covers 7 neighboorhoods but only exists in New York. They are all in Staten Island. \n\n"
        },
        {
            "cell_type": "markdown",
            "metadata": {},
            "source": "# Conclusion"
        },
        {
            "cell_type": "markdown",
            "metadata": {},
            "source": "We can conclude that a type of culture exists, that is not bond to national borders. We find the blue clustered neighborhoods both in Toronto and New York. Apart from that both cities have neighborhoods which are very special and have no common part in the other city. This is for example Staten Island which seems to have strong local subculture.\n\n\nExtending the analysis may help to find more interesting results.\nI recommend analyzing at least two cities for each country and also analyzing a country that differs from Canada and US. E.g. adding a central European country and an Asian one."
        },
        {
            "cell_type": "code",
            "execution_count": null,
            "metadata": {},
            "outputs": [],
            "source": ""
        }
    ],
    "metadata": {
        "kernelspec": {
            "display_name": "Python 3.6",
            "language": "python",
            "name": "python3"
        },
        "language_info": {
            "codemirror_mode": {
                "name": "ipython",
                "version": 3
            },
            "file_extension": ".py",
            "mimetype": "text/x-python",
            "name": "python",
            "nbconvert_exporter": "python",
            "pygments_lexer": "ipython3",
            "version": "3.6.8"
        }
    },
    "nbformat": 4,
    "nbformat_minor": 1
}